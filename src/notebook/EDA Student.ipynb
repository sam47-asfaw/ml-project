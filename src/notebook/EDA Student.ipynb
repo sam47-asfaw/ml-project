{
 "cells": [
  {
   "cell_type": "markdown",
   "metadata": {},
   "source": [
    "## Student EDA "
   ]
  },
  {
   "cell_type": "code",
   "execution_count": 7,
   "metadata": {},
   "outputs": [
    {
     "name": "stdout",
     "output_type": "stream",
     "text": [
      "Collecting seaborn\n",
      "  Using cached seaborn-0.12.2-py3-none-any.whl (293 kB)\n",
      "Requirement already satisfied: numpy!=1.24.0,>=1.17 in d:\\desktop\\ml_projects\\vnew\\lib\\site-packages (from seaborn) (1.25.2)\n",
      "Requirement already satisfied: pandas>=0.25 in d:\\desktop\\ml_projects\\vnew\\lib\\site-packages (from seaborn) (2.1.0)\n",
      "Collecting matplotlib!=3.6.1,>=3.1 (from seaborn)\n",
      "  Obtaining dependency information for matplotlib!=3.6.1,>=3.1 from https://files.pythonhosted.org/packages/ff/1f/2b83c7acf453318a80dc619e99fc30a663b2c1fb18be3d358a96addfecd9/matplotlib-3.7.2-cp310-cp310-win_amd64.whl.metadata\n",
      "  Downloading matplotlib-3.7.2-cp310-cp310-win_amd64.whl.metadata (5.8 kB)\n",
      "Collecting contourpy>=1.0.1 (from matplotlib!=3.6.1,>=3.1->seaborn)\n",
      "  Obtaining dependency information for contourpy>=1.0.1 from https://files.pythonhosted.org/packages/94/0a/5eb57dd395fade977786b2d2c98c2bee8234358794be44422fe58a719d42/contourpy-1.1.0-cp310-cp310-win_amd64.whl.metadata\n",
      "  Downloading contourpy-1.1.0-cp310-cp310-win_amd64.whl.metadata (5.7 kB)\n",
      "Collecting cycler>=0.10 (from matplotlib!=3.6.1,>=3.1->seaborn)\n",
      "  Using cached cycler-0.11.0-py3-none-any.whl (6.4 kB)\n",
      "Collecting fonttools>=4.22.0 (from matplotlib!=3.6.1,>=3.1->seaborn)\n",
      "  Obtaining dependency information for fonttools>=4.22.0 from https://files.pythonhosted.org/packages/1c/c6/408ee90eae2fd7ef85c5baaedfc8d533805f4c54fc6670dbde9539f1277b/fonttools-4.42.1-cp310-cp310-win_amd64.whl.metadata\n",
      "  Downloading fonttools-4.42.1-cp310-cp310-win_amd64.whl.metadata (154 kB)\n",
      "     ---------------------------------------- 0.0/154.1 kB ? eta -:--:--\n",
      "     ---------------------------------------- 0.0/154.1 kB ? eta -:--:--\n",
      "     ---------------------------------------- 0.0/154.1 kB ? eta -:--:--\n",
      "     ------- -------------------------------- 30.7/154.1 kB ? eta -:--:--\n",
      "     ------------------------------ ------- 122.9/154.1 kB 1.4 MB/s eta 0:00:01\n",
      "     -------------------------------------- 154.1/154.1 kB 1.5 MB/s eta 0:00:00\n",
      "Collecting kiwisolver>=1.0.1 (from matplotlib!=3.6.1,>=3.1->seaborn)\n",
      "  Obtaining dependency information for kiwisolver>=1.0.1 from https://files.pythonhosted.org/packages/4a/a1/8a9c9be45c642fa12954855d8b3a02d9fd8551165a558835a19508fec2e6/kiwisolver-1.4.5-cp310-cp310-win_amd64.whl.metadata\n",
      "  Downloading kiwisolver-1.4.5-cp310-cp310-win_amd64.whl.metadata (6.5 kB)\n",
      "Requirement already satisfied: packaging>=20.0 in d:\\desktop\\ml_projects\\vnew\\lib\\site-packages (from matplotlib!=3.6.1,>=3.1->seaborn) (23.1)\n",
      "Collecting pillow>=6.2.0 (from matplotlib!=3.6.1,>=3.1->seaborn)\n",
      "  Obtaining dependency information for pillow>=6.2.0 from https://files.pythonhosted.org/packages/d0/4f/faebe1180e5e6ad6330c539dda7f6081182157393ba6816a438f759a0e59/Pillow-10.0.0-cp310-cp310-win_amd64.whl.metadata\n",
      "  Downloading Pillow-10.0.0-cp310-cp310-win_amd64.whl.metadata (9.6 kB)\n",
      "Collecting pyparsing<3.1,>=2.3.1 (from matplotlib!=3.6.1,>=3.1->seaborn)\n",
      "  Using cached pyparsing-3.0.9-py3-none-any.whl (98 kB)\n",
      "Requirement already satisfied: python-dateutil>=2.7 in d:\\desktop\\ml_projects\\vnew\\lib\\site-packages (from matplotlib!=3.6.1,>=3.1->seaborn) (2.8.2)\n",
      "Requirement already satisfied: pytz>=2020.1 in d:\\desktop\\ml_projects\\vnew\\lib\\site-packages (from pandas>=0.25->seaborn) (2023.3.post1)\n",
      "Requirement already satisfied: tzdata>=2022.1 in d:\\desktop\\ml_projects\\vnew\\lib\\site-packages (from pandas>=0.25->seaborn) (2023.3)\n",
      "Requirement already satisfied: six>=1.5 in d:\\desktop\\ml_projects\\vnew\\lib\\site-packages (from python-dateutil>=2.7->matplotlib!=3.6.1,>=3.1->seaborn) (1.16.0)\n",
      "Downloading matplotlib-3.7.2-cp310-cp310-win_amd64.whl (7.5 MB)\n",
      "   ---------------------------------------- 0.0/7.5 MB ? eta -:--:--\n",
      "   -- ------------------------------------- 0.4/7.5 MB 8.3 MB/s eta 0:00:01\n",
      "   ---- ----------------------------------- 0.8/7.5 MB 8.2 MB/s eta 0:00:01\n",
      "   ------ --------------------------------- 1.2/7.5 MB 8.4 MB/s eta 0:00:01\n",
      "   -------- ------------------------------- 1.6/7.5 MB 8.2 MB/s eta 0:00:01\n",
      "   ---------- ----------------------------- 2.0/7.5 MB 8.4 MB/s eta 0:00:01\n",
      "   ------------- -------------------------- 2.5/7.5 MB 8.7 MB/s eta 0:00:01\n",
      "   --------------- ------------------------ 2.8/7.5 MB 8.6 MB/s eta 0:00:01\n",
      "   ----------------- ---------------------- 3.2/7.5 MB 8.5 MB/s eta 0:00:01\n",
      "   ------------------- -------------------- 3.6/7.5 MB 8.5 MB/s eta 0:00:01\n",
      "   --------------------- ------------------ 4.1/7.5 MB 8.7 MB/s eta 0:00:01\n",
      "   ----------------------- ---------------- 4.5/7.5 MB 8.7 MB/s eta 0:00:01\n",
      "   -------------------------- ------------- 4.9/7.5 MB 8.5 MB/s eta 0:00:01\n",
      "   ---------------------------- ----------- 5.3/7.5 MB 8.5 MB/s eta 0:00:01\n",
      "   ------------------------------- -------- 5.8/7.5 MB 8.6 MB/s eta 0:00:01\n",
      "   --------------------------------- ------ 6.2/7.5 MB 8.7 MB/s eta 0:00:01\n",
      "   ----------------------------------- ---- 6.7/7.5 MB 8.6 MB/s eta 0:00:01\n",
      "   -------------------------------------- - 7.2/7.5 MB 8.7 MB/s eta 0:00:01\n",
      "   ---------------------------------------  7.5/7.5 MB 8.7 MB/s eta 0:00:01\n",
      "   ---------------------------------------  7.5/7.5 MB 8.7 MB/s eta 0:00:01\n",
      "   ---------------------------------------  7.5/7.5 MB 8.7 MB/s eta 0:00:01\n",
      "   ---------------------------------------  7.5/7.5 MB 8.7 MB/s eta 0:00:01\n",
      "   ---------------------------------------- 7.5/7.5 MB 7.1 MB/s eta 0:00:00\n",
      "Downloading contourpy-1.1.0-cp310-cp310-win_amd64.whl (470 kB)\n",
      "   ---------------------------------------- 0.0/470.4 kB ? eta -:--:--\n",
      "   ---------------------------------- ---- 419.8/470.4 kB 13.2 MB/s eta 0:00:01\n",
      "   ---------------------------------------- 470.4/470.4 kB 7.4 MB/s eta 0:00:00\n",
      "Downloading fonttools-4.42.1-cp310-cp310-win_amd64.whl (2.1 MB)\n",
      "   ---------------------------------------- 0.0/2.1 MB ? eta -:--:--\n",
      "   ------- -------------------------------- 0.4/2.1 MB 12.9 MB/s eta 0:00:01\n",
      "   --------------- ------------------------ 0.8/2.1 MB 10.2 MB/s eta 0:00:01\n",
      "   ------------------------ --------------- 1.3/2.1 MB 10.2 MB/s eta 0:00:01\n",
      "   ------------------------------- -------- 1.7/2.1 MB 9.8 MB/s eta 0:00:01\n",
      "   ---------------------------------------  2.1/2.1 MB 9.6 MB/s eta 0:00:01\n",
      "   ---------------------------------------  2.1/2.1 MB 9.6 MB/s eta 0:00:01\n",
      "   ---------------------------------------- 2.1/2.1 MB 7.1 MB/s eta 0:00:00\n",
      "Downloading kiwisolver-1.4.5-cp310-cp310-win_amd64.whl (56 kB)\n",
      "   ---------------------------------------- 0.0/56.1 kB ? eta -:--:--\n",
      "   ---------------------------------------- 56.1/56.1 kB 2.9 MB/s eta 0:00:00\n",
      "Downloading Pillow-10.0.0-cp310-cp310-win_amd64.whl (2.5 MB)\n",
      "   ---------------------------------------- 0.0/2.5 MB ? eta -:--:--\n",
      "   ----- ---------------------------------- 0.3/2.5 MB 9.9 MB/s eta 0:00:01\n",
      "   ----------- ---------------------------- 0.7/2.5 MB 9.1 MB/s eta 0:00:01\n",
      "   ----------------- ---------------------- 1.1/2.5 MB 8.8 MB/s eta 0:00:01\n",
      "   ------------------------ --------------- 1.5/2.5 MB 8.9 MB/s eta 0:00:01\n",
      "   ------------------------------ --------- 1.9/2.5 MB 8.3 MB/s eta 0:00:01\n",
      "   ---------------------------------------  2.5/2.5 MB 8.4 MB/s eta 0:00:01\n",
      "   ---------------------------------------  2.5/2.5 MB 8.4 MB/s eta 0:00:01\n",
      "   ---------------------------------------- 2.5/2.5 MB 7.0 MB/s eta 0:00:00\n",
      "Installing collected packages: pyparsing, pillow, kiwisolver, fonttools, cycler, contourpy, matplotlib, seaborn\n",
      "Successfully installed contourpy-1.1.0 cycler-0.11.0 fonttools-4.42.1 kiwisolver-1.4.5 matplotlib-3.7.2 pillow-10.0.0 pyparsing-3.0.9 seaborn-0.12.2\n",
      "Note: you may need to restart the kernel to use updated packages.\n"
     ]
    }
   ],
   "source": [
    "%pip install seaborn\n"
   ]
  },
  {
   "cell_type": "code",
   "execution_count": 9,
   "metadata": {},
   "outputs": [],
   "source": [
    "\n",
    "import pandas as pd\n",
    "import numpy as np\n",
    "import seaborn as sns\n",
    "import matplotlib.pyplot as plt\n",
    "%matplotlib inline\n",
    "import warnings\n",
    "warnings.filterwarnings('ignore')"
   ]
  },
  {
   "cell_type": "markdown",
   "metadata": {},
   "source": [
    "### Import CSV file as pandas dataframe"
   ]
  },
  {
   "cell_type": "code",
   "execution_count": 11,
   "metadata": {},
   "outputs": [],
   "source": [
    "student_df = pd.read_csv('data/stud.csv')"
   ]
  },
  {
   "cell_type": "code",
   "execution_count": null,
   "metadata": {},
   "outputs": [],
   "source": []
  },
  {
   "cell_type": "code",
   "execution_count": null,
   "metadata": {},
   "outputs": [],
   "source": []
  },
  {
   "cell_type": "code",
   "execution_count": null,
   "metadata": {},
   "outputs": [],
   "source": []
  },
  {
   "cell_type": "code",
   "execution_count": null,
   "metadata": {},
   "outputs": [],
   "source": []
  }
 ],
 "metadata": {
  "kernelspec": {
   "display_name": "Python 3",
   "language": "python",
   "name": "python3"
  },
  "language_info": {
   "codemirror_mode": {
    "name": "ipython",
    "version": 3
   },
   "file_extension": ".py",
   "mimetype": "text/x-python",
   "name": "python",
   "nbconvert_exporter": "python",
   "pygments_lexer": "ipython3",
   "version": "3.10.12"
  },
  "orig_nbformat": 4
 },
 "nbformat": 4,
 "nbformat_minor": 2
}
